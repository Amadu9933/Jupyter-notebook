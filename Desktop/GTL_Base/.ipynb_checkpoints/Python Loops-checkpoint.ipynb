{
 "cells": [
  {
   "cell_type": "markdown",
   "id": "9d99af45",
   "metadata": {},
   "source": [
    "# Python Loops"
   ]
  },
  {
   "cell_type": "markdown",
   "id": "0df722fd",
   "metadata": {},
   "source": [
    "****Python language has two loop commmands****\n",
    "\n",
    "****1) while loop aka indefinte iteration****\n",
    "\n",
    "****2) for loop aka definite iteration****"
   ]
  },
  {
   "cell_type": "markdown",
   "id": "38df1b79",
   "metadata": {},
   "source": [
    "### What is Iteration?"
   ]
  },
  {
   "cell_type": "markdown",
   "id": "ba5c6c03",
   "metadata": {},
   "source": [
    "****The process of doing something again and again OR the act of reapeating steps is called iteration****\n",
    "\n",
    "****In programming iteration means \"Repeating a set of instructions over and over is known as iteration\"****\n"
   ]
  },
  {
   "cell_type": "markdown",
   "id": "8eb991c5",
   "metadata": {},
   "source": [
    "### What is a Loop?"
   ]
  },
  {
   "cell_type": "markdown",
   "id": "6a25602d",
   "metadata": {},
   "source": [
    "****\"A programming structure that implements iteration is called loop\"****"
   ]
  },
  {
   "cell_type": "markdown",
   "id": "81556578",
   "metadata": {},
   "source": [
    "### Applications of Loops"
   ]
  },
  {
   "cell_type": "markdown",
   "id": "da25f391",
   "metadata": {},
   "source": [
    "****ATM machine is in a loop to process transactions****\n",
    "\n",
    "****\"Phone unlock\" allow upto 5 attempts****\n",
    "\n",
    "****Youtube allows you to play videos on loop****\n",
    "\n",
    "****Music Player uses \"repeat mode\" to play your favourite songs over and over****\n",
    "\n",
    "****Reading/writing multiple files****\n",
    "\n",
    "****Running a perticular analysis on each column of your dataset****"
   ]
  },
  {
   "cell_type": "markdown",
   "id": "9d8eeb7b",
   "metadata": {},
   "source": [
    "### Types of Iterations"
   ]
  },
  {
   "cell_type": "markdown",
   "id": "39b2db2f",
   "metadata": {},
   "source": [
    "****In Python, there are two types of Iterations****\n",
    "\n",
    "****1) While loop or Indefinite iteration****\n",
    "\n",
    "****2) for loop or definite iteration****"
   ]
  },
  {
   "cell_type": "markdown",
   "id": "ca249ac4",
   "metadata": {},
   "source": [
    "## 1) While Loop (Indefinite Iteration) "
   ]
  },
  {
   "attachments": {
    "flow-chart-while-loop.jpg": {
     "image/jpeg": "[encoded data removed]"
    }
   },
   "cell_type": "markdown",
   "id": "f15b5a2e",
   "metadata": {},
   "source": [
    "![flow-chart-while-loop.jpg](attachment:flow-chart-while-loop.jpg)"
   ]
  },
  {
   "cell_type": "markdown",
   "id": "e83a1c86",
   "metadata": {},
   "source": [
    "****While loop excecutes certain instructions again n' again as long as the condition holds true****\n",
    "\n",
    "****It's called indefinite iteration because number of times a loop executed is not specified explicitly****\n",
    "\n",
    "****It iterates as long as the test condition is true****\n",
    "\n",
    "****Leaves the loop when test condition is false****"
   ]
  },
  {
   "cell_type": "markdown",
   "id": "7aa303e7",
   "metadata": {},
   "source": [
    "### Syntax"
   ]
  },
  {
   "cell_type": "raw",
   "id": "3ef9a3d7",
   "metadata": {},
   "source": [
    "while <Expression>:\n",
    "    <Statements>"
   ]
  },
  {
   "cell_type": "markdown",
   "id": "4adf861f",
   "metadata": {},
   "source": [
    "****Expression represents a condition****\n",
    "    \n",
    "****Statements represent steps which are repeated as long as the condition holds true****"
   ]
  },
  {
   "cell_type": "markdown",
   "id": "dd657e4b",
   "metadata": {},
   "source": [
    "##### Example 1: Writing a program that prints a sentence multiple times based on the condition provided"
   ]
  },
  {
   "cell_type": "code",
   "execution_count": null,
   "id": "d1f000be",
   "metadata": {
    "scrolled": true
   },
   "outputs": [],
   "source": [
    "count = 0\n",
    "while count < 3:\n",
    "    count = count + 1\n",
    "    print(\"it will make sense!\")"
   ]
  },
  {
   "cell_type": "code",
   "execution_count": null,
   "id": "f025922d",
   "metadata": {},
   "outputs": [],
   "source": [
    "count=0\n",
    "while count"
   ]
  },
  {
   "cell_type": "markdown",
   "id": "37dd426d",
   "metadata": {},
   "source": [
    "##### Example 2: Writing a program that prints each number based on the condition provided"
   ]
  },
  {
   "cell_type": "markdown",
   "id": "4d03645a",
   "metadata": {},
   "source": [
    "##### Example 3: Writing a program that iterate over the given sequence and prints each character"
   ]
  },
  {
   "cell_type": "code",
   "execution_count": null,
   "id": "6d2a7de7",
   "metadata": {},
   "outputs": [],
   "source": [
    "i = 0\n",
    "alpha = 'ghanatechlab'\n",
    "while i < len(alpha):\n",
    "    print('Letter: ',alpha[i])\n",
    "    i = i+1"
   ]
  },
  {
   "cell_type": "markdown",
   "id": "9388e9d0",
   "metadata": {},
   "source": [
    "##### Example 4: Writing a program that prints the string along with the number of  iteration"
   ]
  },
  {
   "cell_type": "code",
   "execution_count": null,
   "id": "9060018a",
   "metadata": {},
   "outputs": [],
   "source": [
    "j = 8\n",
    "while j > 0:\n",
    "    j -= 1     # j -= 1 implies everytime the loop runs, it will reduce the count\n",
    "    print('this is while loop', j)"
   ]
  },
  {
   "cell_type": "markdown",
   "id": "b3fd2c89",
   "metadata": {},
   "source": [
    "##### Example 5: Writing a program that iterates over the given list and removes each item from end of the list"
   ]
  },
  {
   "cell_type": "code",
   "execution_count": null,
   "id": "453b3f02",
   "metadata": {},
   "outputs": [],
   "source": [
    "i = ['1st', '2nd', '3rd', '4th', '5th', '6th', '7th', '8th', '9th', '10th']\n",
    "\n",
    "while i:\n",
    "    print(i.pop(-1))"
   ]
  },
  {
   "cell_type": "markdown",
   "id": "bc9388c5",
   "metadata": {},
   "source": [
    "##### Example 6: Writing a program that iterates over the given list and removes each item from start of the list"
   ]
  },
  {
   "cell_type": "code",
   "execution_count": null,
   "id": "aa5c2d3a",
   "metadata": {
    "scrolled": true
   },
   "outputs": [],
   "source": [
    "i = ['1st', '2nd', '3rd', '4th', '5th', '6th', '7th', '8th', '9th', '10th']\n",
    "\n",
    "while i:\n",
    "    print(i.pop(0))"
   ]
  },
  {
   "cell_type": "markdown",
   "id": "e6c7f85f",
   "metadata": {},
   "source": [
    "****In above examples a list i is defined containing 10 elements****\n",
    "\n",
    "****The loop will first check condition \"which is whether ( i ) exists or not\"****\n",
    "\n",
    "****If \"i\" exists then it will move to the body of the while loop****\n",
    "\n",
    "****Inside the body of while, we are removing each item from the list and then displaying the results accordingly****\n"
   ]
  },
  {
   "cell_type": "markdown",
   "id": "54a92703",
   "metadata": {},
   "source": [
    "##### Example 7: Writing a program that iterates over the given list of our names and prints each name from the list"
   ]
  },
  {
   "cell_type": "code",
   "execution_count": null,
   "id": "f897a5ad",
   "metadata": {},
   "outputs": [],
   "source": [
    "our_names = ['mash','hamza','joe','fedelia','rochelle','rufina','sakina','nii','hilda','franca','belinda','robert','dede','candy']\n",
    "i = 0\n",
    "while i < len(our_names):\n",
    "    print(our_names[i])\n",
    "    i += 1"
   ]
  },
  {
   "cell_type": "markdown",
   "id": "eaccf146",
   "metadata": {},
   "source": [
    "### Sentinel Controlled Statement"
   ]
  },
  {
   "cell_type": "markdown",
   "id": "fa684ef3",
   "metadata": {},
   "source": [
    "****Sentinel Controlled statement****\n",
    "\n",
    "****Sentinel statement or value is used when to terminate a loop whenever a user enters it****\n",
    "\n",
    "****No counter variable because we don't know how many times the program will execute****\n",
    "\n",
    "****User decides the number of iterations****\n",
    "\n",
    "****User decides the sentinel value in our case we are using -1 (generally used)****"
   ]
  },
  {
   "cell_type": "markdown",
   "id": "1460531b",
   "metadata": {},
   "source": [
    "##### Example 8: Writing a program that takes a number from user and returns square of that number. Use a sentinel value to stop the loop"
   ]
  },
  {
   "cell_type": "markdown",
   "id": "f26c6307",
   "metadata": {},
   "source": [
    "##### Example 9: Writing a program that takes a number from user and returns square root of that number until a sentinel value is entered"
   ]
  },
  {
   "cell_type": "code",
   "execution_count": null,
   "id": "6656a08d",
   "metadata": {},
   "outputs": [],
   "source": [
    "while i != 0:               \n",
    "    i = int(input('Enter a number: '))\n",
    "    print('The square root of', i ,'is', i**0.5)"
   ]
  },
  {
   "cell_type": "markdown",
   "id": "9678b40f",
   "metadata": {},
   "source": [
    "****Notice that the program ends just when the specified sentinel value (0) is eneterd****"
   ]
  },
  {
   "cell_type": "markdown",
   "id": "0ef4ec15",
   "metadata": {},
   "source": [
    "##### Example 10: Writing a program that asks a user to enter a number and returns the cube of that number until a sentinel value is entered, also storing the numbers and their cubes in different lists"
   ]
  },
  {
   "cell_type": "markdown",
   "id": "3cde9d96",
   "metadata": {},
   "source": [
    "### break Statement"
   ]
  },
  {
   "cell_type": "markdown",
   "id": "93c337d4",
   "metadata": {},
   "source": [
    "#### Using break statement, a while loop can be stopped even when the condition is true!"
   ]
  },
  {
   "cell_type": "markdown",
   "id": "d7ee53fc",
   "metadata": {},
   "source": [
    "##### Example 11: Writing a program to stop an infinte loop using break statement"
   ]
  },
  {
   "cell_type": "code",
   "execution_count": null,
   "id": "0daef9b5",
   "metadata": {},
   "outputs": [],
   "source": [
    "j = 1\n",
    "while j > 0:\n",
    "    j += 1\n",
    "    print(j)     # Notice the condition in the while will always stay TRUE because 1 is always greater than 0\n",
    "    if j == 10:\n",
    "        break\n",
    "print('break statement ends while loop eventhough the condition is still true')\n",
    "    "
   ]
  },
  {
   "cell_type": "markdown",
   "id": "c514e838",
   "metadata": {},
   "source": [
    "#### Notice loop terminates completely when j equals to 10"
   ]
  },
  {
   "cell_type": "markdown",
   "id": "cd499f0a",
   "metadata": {},
   "source": [
    "##### Example 12: Writing a program prints each iteration of the loop and then stopping the loop using break statement"
   ]
  },
  {
   "cell_type": "code",
   "execution_count": null,
   "id": "127d03ec",
   "metadata": {},
   "outputs": [],
   "source": [
    "i = 1\n",
    "while i < 10:\n",
    "    print('this is',i)\n",
    "    if i == 7:\n",
    "        break\n",
    "    i += 1\n",
    "print('Loop ended')"
   ]
  },
  {
   "cell_type": "markdown",
   "id": "d8ef6abf",
   "metadata": {},
   "source": [
    "### Continue statement"
   ]
  },
  {
   "cell_type": "markdown",
   "id": "b3afb2a9",
   "metadata": {},
   "source": [
    "#### Whereas in the exact same problem below we used \"continue\" statement which momentarily stops the loop when i equals to 5 \n"
   ]
  },
  {
   "cell_type": "markdown",
   "id": "47e8cf1f",
   "metadata": {},
   "source": [
    "#### at i == 5 continue statement stops the loop, program goes back to the top of the loop "
   ]
  },
  {
   "cell_type": "markdown",
   "id": "7dd95625",
   "metadata": {},
   "source": [
    "#### Condition i > 0 is re-evaluated, as it is true!"
   ]
  },
  {
   "cell_type": "markdown",
   "id": "86cdfc2f",
   "metadata": {},
   "source": [
    "#### The loop resumes and terminates only when i becomes 0"
   ]
  },
  {
   "cell_type": "markdown",
   "id": "a4066988",
   "metadata": {},
   "source": [
    "#### Notice 5 is not printed as continue statement temporarily terminates the loop at 5 and goes back to check the condition"
   ]
  },
  {
   "cell_type": "code",
   "execution_count": null,
   "id": "cbdab9e9",
   "metadata": {},
   "outputs": [],
   "source": [
    "i = 10\n",
    "while i > 0:\n",
    "    i -= 1\n",
    "    if i == 5:\n",
    "        continue\n",
    "    print('this is',i)\n",
    "print('Loop ends here')"
   ]
  },
  {
   "cell_type": "markdown",
   "id": "59cd6d8c",
   "metadata": {},
   "source": [
    "****Python allow else statement right after while loop****\n",
    "\n",
    "****instructions in else statement are executed only when condition in the while loop turns false****\n",
    "\n",
    "****Unique feature found mostly in Python****\n"
   ]
  },
  {
   "cell_type": "code",
   "execution_count": null,
   "id": "36d8f7e1",
   "metadata": {},
   "outputs": [],
   "source": [
    "i = 10\n",
    "while i > 0:\n",
    "    i -= 1\n",
    "    print('this is',i)\n",
    "else:\n",
    "    print('Loop ends here')"
   ]
  },
  {
   "cell_type": "markdown",
   "id": "83d91bb8",
   "metadata": {},
   "source": [
    "## Nested while Loops"
   ]
  },
  {
   "cell_type": "markdown",
   "id": "b122fd5e",
   "metadata": {},
   "source": [
    "### Syntax"
   ]
  },
  {
   "cell_type": "raw",
   "id": "c08eef80",
   "metadata": {},
   "source": [
    "while condition:             \n",
    "         while condition:    \n",
    "                 statement() \n",
    "    statement()"
   ]
  },
  {
   "attachments": {
    "9efawyyiti.jpg": {
     "image/jpeg": "[encoded data removed]"
    }
   },
   "cell_type": "markdown",
   "id": "c531d9f6",
   "metadata": {},
   "source": [
    "![9efawyyiti.jpg](attachment:9efawyyiti.jpg)"
   ]
  },
  {
   "cell_type": "markdown",
   "id": "a77c0a7c",
   "metadata": {},
   "source": [
    "****In nested while loops we have two types of loops****\n",
    "\n",
    "****1) Outer loop****\n",
    "\n",
    "****2) Inner loop****\n"
   ]
  },
  {
   "attachments": {
    "nested-while_1.png": {
     "image/png": "[encoded data removed]"
    }
   },
   "cell_type": "markdown",
   "id": "72e098fe",
   "metadata": {},
   "source": [
    "![nested-while_1.png](attachment:nested-while_1.png)"
   ]
  },
  {
   "cell_type": "markdown",
   "id": "4a20ad67",
   "metadata": {},
   "source": [
    "****i)    Outer loop is evaluated first****\n",
    "\n",
    "****ii)   If the condition for \"outer while loop\" holds true, the program jumps to inner while loop****\n",
    "\n",
    "****iii)  The\"inner while loop\" runs till completion if it's condition holds true****\n",
    "\n",
    "****iv)   If the condition in the \"inner loop\" turns out to be false then execution jumps back to the \"outer loop\"****\n",
    "\n",
    "****v)    This process continues untill the condition for the \"outer loop\" turns false****"
   ]
  },
  {
   "cell_type": "markdown",
   "id": "82a5b632",
   "metadata": {},
   "source": [
    "##### ****Example 13: Write a prgram to print a statement using nested while loops****"
   ]
  },
  {
   "cell_type": "code",
   "execution_count": null,
   "id": "33c1557c",
   "metadata": {},
   "outputs": [],
   "source": [
    "outer = 1\n",
    "while outer <= 3:\n",
    "    print(outer, 'OUTER LOOOOOOOP')\n",
    "    inner = 1\n",
    "    while inner <= 4:\n",
    "        print('\\t',inner, 'inner loop')\n",
    "        inner = inner + 1\n",
    "    outer = outer + 1"
   ]
  },
  {
   "cell_type": "markdown",
   "id": "505f8575",
   "metadata": {},
   "source": [
    "# for Loop"
   ]
  },
  {
   "cell_type": "markdown",
   "id": "23c63345",
   "metadata": {},
   "source": [
    "****A for loop is used for iterating over a sequence (list, tuple, dictionary, set, string)****\n",
    "\n",
    "****for loop or definite iterations meaning the loop ends when all the items are iterated****"
   ]
  },
  {
   "cell_type": "markdown",
   "id": "11cb48e4",
   "metadata": {},
   "source": [
    "### Syntax"
   ]
  },
  {
   "cell_type": "raw",
   "id": "45dcc9cb",
   "metadata": {},
   "source": [
    "for <var> in <iterable>:\n",
    "    <body of loop>"
   ]
  },
  {
   "cell_type": "code",
   "execution_count": null,
   "id": "cd52f07b",
   "metadata": {},
   "outputs": [],
   "source": []
  },
  {
   "cell_type": "code",
   "execution_count": null,
   "id": "ce2919fb",
   "metadata": {},
   "outputs": [],
   "source": []
  },
  {
   "cell_type": "code",
   "execution_count": null,
   "id": "738f4deb",
   "metadata": {},
   "outputs": [],
   "source": []
  },
  {
   "cell_type": "code",
   "execution_count": null,
   "id": "c7f293f8",
   "metadata": {},
   "outputs": [],
   "source": []
  },
  {
   "cell_type": "code",
   "execution_count": null,
   "id": "9339bed7",
   "metadata": {},
   "outputs": [],
   "source": []
  },
  {
   "cell_type": "markdown",
   "id": "e66c2875",
   "metadata": {},
   "source": [
    "##### ****Example 14: Write a program to iterate over a list using for loop**** "
   ]
  },
  {
   "cell_type": "markdown",
   "id": "323fe617",
   "metadata": {},
   "source": [
    "## Python range() function"
   ]
  },
  {
   "attachments": {
    "Python-range-function-explained.webp": {
     "image/webp": "[encoded data removed]"
    }
   },
   "cell_type": "markdown",
   "id": "9a339cb5",
   "metadata": {},
   "source": [
    "![Python-range-function-explained.webp](attachment:Python-range-function-explained.webp)"
   ]
  },
  {
   "cell_type": "markdown",
   "id": "80b45218",
   "metadata": {},
   "source": [
    "****Python's range() function returns a sequence of integers****\n",
    "\n",
    "****starts from 0 by default****\n",
    "\n",
    "****increments by 1 by defaults****\n",
    "\n",
    "****stops before a specified number****\n",
    "\n",
    "****for example range(5) implies that it'll count from 0 to 4****\n",
    "\n",
    "****range(start, stop, steps) is the actual representation of the python range() function****\n",
    "\n",
    "\n",
    "****\"start\" represents starting point of the count, \"stop\" represents ending point of the count whereas \"steps\" (aka strides) represents the count to skip between values****\n",
    "\n",
    "****range() function is like a counter we used in while loop but the difference here is that we don't have to explicitly increment the numbers****"
   ]
  },
  {
   "cell_type": "markdown",
   "id": "dd67bb95",
   "metadata": {},
   "source": [
    "#### while Vs for Loop"
   ]
  },
  {
   "cell_type": "code",
   "execution_count": null,
   "id": "95e73541",
   "metadata": {},
   "outputs": [],
   "source": [
    "count = 0\n",
    "while count < 5:\n",
    "    print(count, 'we want the same output')\n",
    "    count = count + 1"
   ]
  },
  {
   "cell_type": "code",
   "execution_count": null,
   "id": "79dfbafb",
   "metadata": {},
   "outputs": [],
   "source": [
    "for count in range(5):\n",
    "    print(count,\"we want the same output\")"
   ]
  },
  {
   "cell_type": "markdown",
   "id": "5c941888",
   "metadata": {},
   "source": [
    "##### ****Example 15: Write a program to print a statement over a given range****"
   ]
  },
  {
   "cell_type": "markdown",
   "id": "fc26b46b",
   "metadata": {},
   "source": [
    "****let's see this example****"
   ]
  },
  {
   "cell_type": "markdown",
   "id": "06c84494",
   "metadata": {},
   "source": [
    "****Here in this example the starting point is \"1\", ending point is \"5\" and number of steps per iteration is \"1\"****\n",
    "\n",
    "****It only displays 4 times!****"
   ]
  },
  {
   "cell_type": "code",
   "execution_count": null,
   "id": "6d5a81f2",
   "metadata": {},
   "outputs": [],
   "source": [
    "for count in range(1,5,1):\n",
    "    print(count, \"as i said week 2 is about to end\")"
   ]
  },
  {
   "cell_type": "markdown",
   "id": "d6638e40",
   "metadata": {},
   "source": [
    "****Whereas in the example below the starting point is \"0\", ending point is \"5\" and number of steps per iteration is set to \"2\"****\n",
    "\n",
    "\n",
    "****Strides or steps shows how many values to skip while counting, for example if set to 2, it will skip 1 value, if set to 3, it will skip 2 values and so on****"
   ]
  },
  {
   "cell_type": "code",
   "execution_count": null,
   "id": "e0de4adb",
   "metadata": {},
   "outputs": [],
   "source": [
    "for count in range(0,5,2):\n",
    "    print(count, \"week 2 is about to end\")"
   ]
  },
  {
   "cell_type": "markdown",
   "id": "4f2ff27d",
   "metadata": {},
   "source": [
    "### range() function can also be used to specify a list of integers "
   ]
  },
  {
   "cell_type": "code",
   "execution_count": null,
   "id": "cabc0339",
   "metadata": {},
   "outputs": [],
   "source": [
    "x = range(1,10)\n",
    "x = list(x)\n",
    "print(x)"
   ]
  },
  {
   "cell_type": "markdown",
   "id": "5559b4a9",
   "metadata": {},
   "source": [
    "### break Statement"
   ]
  },
  {
   "cell_type": "code",
   "execution_count": null,
   "id": "bd3b8cec",
   "metadata": {},
   "outputs": [],
   "source": [
    "for k in 'Kobob':\n",
    "    print(k)\n",
    "    if k == 'o':\n",
    "        break"
   ]
  },
  {
   "cell_type": "markdown",
   "id": "8f6f7d65",
   "metadata": {},
   "source": [
    "##### ****Example 16: Write a program to search an item in a given list and then stop the loop**** "
   ]
  },
  {
   "cell_type": "code",
   "execution_count": null,
   "id": "48cc251b",
   "metadata": {},
   "outputs": [],
   "source": [
    "fruit = ['kobob', 'saplay kobob', 'seekh kobob', 'Charg kobob']\n",
    "for k in fruit:\n",
    "    print(k)\n",
    "    if k == 'seekh kobob':\n",
    "        break"
   ]
  },
  {
   "cell_type": "markdown",
   "id": "49d6a388",
   "metadata": {},
   "source": [
    "##### ****Example 17: Write a program to search an friend in the given list and terminate the loop once the friend is foundt****"
   ]
  },
  {
   "cell_type": "markdown",
   "id": "33c1a220",
   "metadata": {},
   "source": [
    "### continue Statement"
   ]
  },
  {
   "cell_type": "code",
   "execution_count": null,
   "id": "e44700b4",
   "metadata": {
    "scrolled": true
   },
   "outputs": [],
   "source": [
    "for k in 'Kobob':\n",
    "    #print(k)\n",
    "    if k == 'o':\n",
    "        continue\n",
    "    print(k)"
   ]
  },
  {
   "cell_type": "code",
   "execution_count": null,
   "id": "afe64c14",
   "metadata": {},
   "outputs": [],
   "source": [
    "for k in 'Kobob':\n",
    "    if k == 'b':\n",
    "        continue\n",
    "    print(k)"
   ]
  },
  {
   "cell_type": "markdown",
   "id": "ebfe37c1",
   "metadata": {},
   "source": [
    "##### ****Example 18: Write a program to search an actor in the given list using for loop and continue statement**** "
   ]
  },
  {
   "cell_type": "markdown",
   "id": "da9280d9",
   "metadata": {},
   "source": [
    "##### ***Example 19: *Write a program to display only those numbers from a list that satisfy the following conditions****\n",
    "##### 1) ****The number must be divisible by five****\n",
    "##### 2) ****If the number is greater than 150, then skip it and move to the next number****\n",
    "##### 3) ****If the number is greater than 500, then stop the loop****"
   ]
  }
 ],
 "metadata": {
  "kernelspec": {
   "display_name": "Python 3 (ipykernel)",
   "language": "python",
   "name": "python3"
  },
  "language_info": {
   "codemirror_mode": {
    "name": "ipython",
    "version": 3
   },
   "file_extension": ".py",
   "mimetype": "text/x-python",
   "name": "python",
   "nbconvert_exporter": "python",
   "pygments_lexer": "ipython3",
   "version": "3.9.12"
  }
 },
 "nbformat": 4,
 "nbformat_minor": 5
}
